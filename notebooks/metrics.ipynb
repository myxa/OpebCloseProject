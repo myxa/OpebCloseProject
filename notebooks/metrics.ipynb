{
 "cells": [
  {
   "cell_type": "code",
   "execution_count": 1,
   "metadata": {},
   "outputs": [
    {
     "name": "stdout",
     "output_type": "stream",
     "text": [
      "Python 3.10.12 (main, Nov 20 2023, 15:14:05) [GCC 11.4.0] on linux\n"
     ]
    }
   ],
   "source": [
    "import os\n",
    "import sys; print('Python %s on %s' % (sys.version, sys.platform))\n",
    "sys.path.extend([os.path.abspath('..')])"
   ]
  },
  {
   "cell_type": "code",
   "execution_count": 2,
   "metadata": {},
   "outputs": [],
   "source": [
    "from denoising.helpers import *\n",
    "from denoising.metrics import ICC, bss\n",
    "from nilearn.connectome import sym_matrix_to_vec\n"
   ]
  },
  {
   "cell_type": "code",
   "execution_count": 3,
   "metadata": {},
   "outputs": [],
   "source": [
    "atlas = 'HCPex' # Schaefer200 AAL Brainnetome\n",
    "strategy = 6"
   ]
  },
  {
   "cell_type": "code",
   "execution_count": 4,
   "metadata": {},
   "outputs": [
    {
     "name": "stdout",
     "output_type": "stream",
     "text": [
      "no files available: []\n",
      "no files available: []\n",
      "no files available: []\n"
     ]
    }
   ],
   "source": [
    "trt1 = fetch_ts('/data/Projects/TestRetest_NYU/TRT_outputs',\n",
    "               #sub=,\n",
    "               run=1, atlas_name=atlas, strategy=strategy)\n",
    "trt2 = fetch_ts('/data/Projects/TestRetest_NYU/TRT_outputs',\n",
    "               #sub=,\n",
    "               run=2, atlas_name=atlas, strategy=strategy)\n",
    "trt3 = fetch_ts('/data/Projects/TestRetest_NYU/TRT_outputs',\n",
    "               #sub=,\n",
    "               run=3, atlas_name=atlas, strategy=strategy)"
   ]
  },
  {
   "cell_type": "code",
   "execution_count": 5,
   "metadata": {},
   "outputs": [],
   "source": [
    "fc_trt1 = functional_connectivity(trt1, 'correlation')\n",
    "fc_trt2 = functional_connectivity(trt2, 'correlation')\n",
    "fc_trt3 = functional_connectivity(trt3, 'correlation')"
   ]
  },
  {
   "cell_type": "code",
   "execution_count": 6,
   "metadata": {},
   "outputs": [],
   "source": [
    "vec_trt1 = sym_matrix_to_vec(fc_trt1, discard_diagonal=True)\n",
    "vec_trt2 = sym_matrix_to_vec(fc_trt2, discard_diagonal=True)\n",
    "vec_trt3 = sym_matrix_to_vec(fc_trt3, discard_diagonal=True)"
   ]
  },
  {
   "cell_type": "code",
   "execution_count": 7,
   "metadata": {},
   "outputs": [
    {
     "name": "stdout",
     "output_type": "stream",
     "text": [
      "0.9975638119415868\n"
     ]
    }
   ],
   "source": [
    "metric = ICC([vec_trt1, vec_trt2, vec_trt3])\n",
    "print(metric.icc())"
   ]
  },
  {
   "cell_type": "code",
   "execution_count": 8,
   "metadata": {},
   "outputs": [
    {
     "data": {
      "text/plain": [
       "array([0.40342166, 0.45702798, 0.13260411, 0.43733259, 0.45047183,\n",
       "       0.21196928, 0.34538253, 0.24791155, 0.35793191, 0.36854756,\n",
       "       0.40386829, 0.37266327, 0.39417706, 0.39625411, 0.27977298,\n",
       "       0.39872923, 0.25950153, 0.41463928, 0.44881921, 0.41081952,\n",
       "       0.3869806 , 0.38672031])"
      ]
     },
     "execution_count": 8,
     "metadata": {},
     "output_type": "execute_result"
    }
   ],
   "source": [
    "bss([vec_trt1, vec_trt2])"
   ]
  },
  {
   "cell_type": "code",
   "execution_count": null,
   "metadata": {},
   "outputs": [],
   "source": []
  }
 ],
 "metadata": {
  "kernelspec": {
   "display_name": "nilearn_env",
   "language": "python",
   "name": "python3"
  },
  "language_info": {
   "codemirror_mode": {
    "name": "ipython",
    "version": 3
   },
   "file_extension": ".py",
   "mimetype": "text/x-python",
   "name": "python",
   "nbconvert_exporter": "python",
   "pygments_lexer": "ipython3",
   "version": "3.10.12"
  }
 },
 "nbformat": 4,
 "nbformat_minor": 2
}
