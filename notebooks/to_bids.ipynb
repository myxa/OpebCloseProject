{
 "cells": [
  {
   "cell_type": "code",
   "execution_count": null,
   "metadata": {},
   "outputs": [],
   "source": [
    "import os\n",
    "import shutil"
   ]
  },
  {
   "cell_type": "code",
   "execution_count": null,
   "metadata": {},
   "outputs": [],
   "source": [
    "datapath = '/data/Projects/TestRetest_NYU'\n",
    "bids_dir = '/data/Projects/TestRetest_NYU/bids'"
   ]
  },
  {
   "cell_type": "code",
   "execution_count": null,
   "metadata": {},
   "outputs": [],
   "source": [
    "for i in subs:\n",
    "    os.mkdir(f'{bids_dir}/{i}/ses-1')\n",
    "    os.mkdir(f'{bids_dir}/{i}/ses-2')\n",
    "    os.mkdir(f'{bids_dir}/{i}/ses-3')"
   ]
  },
  {
   "cell_type": "code",
   "execution_count": null,
   "metadata": {},
   "outputs": [],
   "source": [
    "for i in subs:\n",
    "    os.mkdir(f'{bids_dir}/{i}/ses-1/anat')\n",
    "    os.mkdir(f'{bids_dir}/{i}/ses-2/anat')\n",
    "    os.mkdir(f'{bids_dir}/{i}/ses-3/anat')\n",
    "    os.mkdir(f'{bids_dir}/{i}/ses-1/func')\n",
    "    os.mkdir(f'{bids_dir}/{i}/ses-2/func')\n",
    "    os.mkdir(f'{bids_dir}/{i}/ses-3/func')"
   ]
  },
  {
   "cell_type": "code",
   "execution_count": null,
   "metadata": {},
   "outputs": [],
   "source": [
    "for i in range(len(subs)):\n",
    "    old = subs[i].replace('-', '')\n",
    "    shutil.copyfile(f'{datapath}/Session1/{old}/anat/mprage_skullstripped.nii.gz',\n",
    "    f'{bids_dir}/{subs[i]}/ses-1/anat/{subs[i]}_ses-1_T1w.nii.gz')\n",
    "\n",
    "    shutil.copyfile(f'{datapath}/Session2/{old}/anat/mprage_skullstripped.nii.gz',\n",
    "    f'{bids_dir}/{subs[i]}/ses-2/anat/{subs[i]}_ses-2_T1w.nii.gz')\n",
    "\n",
    "    shutil.copyfile(f'{datapath}/Session3/{old}/anat/mprage_skullstripped.nii.gz',\n",
    "    f'{bids_dir}/{subs[i]}/ses-3/anat/{subs[i]}_ses-3_T1w.nii.gz')"
   ]
  },
  {
   "cell_type": "code",
   "execution_count": null,
   "metadata": {},
   "outputs": [],
   "source": [
    "for i in range(len(subs)):\n",
    "    \n",
    "    os.remove(f'{bids_dir}/{subs[i]}/ses-1/anat/{subs[i]}_ses-1_T1w.nii.gz')\n",
    "\n",
    "    os.remove(f'{bids_dir}/{subs[i]}/ses-2/anat/{subs[i]}_ses-2_T1w.nii.gz')\n",
    "\n",
    "    os.remove(f'{bids_dir}/{subs[i]}/ses-3/anat/{subs[i]}_ses-3_T1w.nii.gz')"
   ]
  },
  {
   "cell_type": "code",
   "execution_count": null,
   "metadata": {},
   "outputs": [],
   "source": [
    "for i in range(len(subs)):\n",
    "    old = subs[i].replace('-', '')\n",
    "\n",
    "    shutil.copyfile(f'{datapath}/Session1/{old}/func/lfo.nii.gz',\n",
    "    f'{bids_dir}/{subs[i]}/ses-1/func/{subs[i]}_ses-1_task-rest_run-1_bold.nii.gz')\n",
    "\n",
    "    shutil.copyfile(f'{datapath}/Session2/{old}/func/lfo.nii.gz',\n",
    "    f'{bids_dir}/{subs[i]}/ses-2/func/{subs[i]}_ses-2_task-rest_run-1_bold.nii.gz')\n",
    "\n",
    "    shutil.copyfile(f'{datapath}/Session3/{old}/func/lfo.nii.gz',\n",
    "    f'{bids_dir}/{subs[i]}/ses-3/func/{subs[i]}_ses-3_task-rest_run-1_bold.nii.gz')"
   ]
  }
 ],
 "metadata": {
  "language_info": {
   "name": "python"
  }
 },
 "nbformat": 4,
 "nbformat_minor": 2
}
