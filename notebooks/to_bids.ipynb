{
 "cells": [
  {
   "cell_type": "code",
   "execution_count": 1,
   "metadata": {},
   "outputs": [],
   "source": [
    "import os\n",
    "import shutil"
   ]
  },
  {
   "cell_type": "code",
   "execution_count": 2,
   "metadata": {},
   "outputs": [],
   "source": [
    "datapath = '/data/Projects/OpenClose_RMET'\n",
    "bids_dir = '/data/Projects/OpenClose_RMET/bids'"
   ]
  },
  {
   "cell_type": "code",
   "execution_count": 3,
   "metadata": {},
   "outputs": [],
   "source": [
    "subs = [f'sub-{i+1:03d}' for i in range(64)]"
   ]
  },
  {
   "cell_type": "code",
   "execution_count": 4,
   "metadata": {},
   "outputs": [],
   "source": [
    "old = [f'{i+1:02d}_Sub' for i in range(64)]"
   ]
  },
  {
   "cell_type": "code",
   "execution_count": 9,
   "metadata": {},
   "outputs": [],
   "source": [
    "for i in range(64):\n",
    "    if i == 52: continue\n",
    "    src = bids_dir + f'/derivatives/sub-{i+1:03d}/figures'\n",
    "    dst = datapath+f'/output_check/sub-{i+1:03d}/figures'\n",
    "    shutil.copytree(src, dst)\n"
   ]
  },
  {
   "cell_type": "code",
   "execution_count": 4,
   "metadata": {},
   "outputs": [],
   "source": [
    "os.mkdir(datapath+'/output_check')"
   ]
  },
  {
   "cell_type": "code",
   "execution_count": 6,
   "metadata": {},
   "outputs": [],
   "source": [
    "for i in subs:\n",
    "    os.mkdir(f'{datapath}/output_check/{i}')\n",
    "    #os.mkdir(f'{bids_dir}/{i}/ses-2')\n",
    "    #os.mkdir(f'{bids_dir}/{i}/ses-3')"
   ]
  },
  {
   "cell_type": "code",
   "execution_count": 25,
   "metadata": {},
   "outputs": [],
   "source": [
    "for i in subs:\n",
    "    os.mkdir(f'{bids_dir}/{i}/anat')\n",
    "    #os.mkdir(f'{bids_dir}/{i}/ses-2/anat')\n",
    "    #os.mkdir(f'{bids_dir}/{i}/ses-3/anat')\n",
    "    os.mkdir(f'{bids_dir}/{i}/func')\n",
    "    #os.mkdir(f'{bids_dir}/{i}/ses-2/func')\n",
    "    #os.mkdir(f'{bids_dir}/{i}/ses-3/func')"
   ]
  },
  {
   "cell_type": "code",
   "execution_count": 22,
   "metadata": {},
   "outputs": [
    {
     "data": {
      "text/plain": [
       "52"
      ]
     },
     "execution_count": 22,
     "metadata": {},
     "output_type": "execute_result"
    }
   ],
   "source": [
    "i"
   ]
  },
  {
   "cell_type": "code",
   "execution_count": 26,
   "metadata": {},
   "outputs": [],
   "source": [
    "for i in range(len(subs)):\n",
    "    if i == 52:\n",
    "        continue\n",
    "    \n",
    "    anat_fl = os.listdir(f'{datapath}/{old[i]}/struct')[0]\n",
    "    shutil.copyfile(f'{datapath}/{old[i]}/struct/{anat_fl}', \n",
    "                    f'{bids_dir}/{subs[i]}/anat/{subs[i]}_T1w.nii')"
   ]
  },
  {
   "cell_type": "code",
   "execution_count": null,
   "metadata": {},
   "outputs": [],
   "source": [
    "for i in range(len(subs)):\n",
    "    \n",
    "    os.remove(f'{bids_dir}/{subs[i]}/ses-1/anat/{subs[i]}_ses-1_T1w.nii.gz')\n",
    "\n",
    "    os.remove(f'{bids_dir}/{subs[i]}/ses-2/anat/{subs[i]}_ses-2_T1w.nii.gz')\n",
    "\n",
    "    os.remove(f'{bids_dir}/{subs[i]}/ses-3/anat/{subs[i]}_ses-3_T1w.nii.gz')"
   ]
  },
  {
   "cell_type": "code",
   "execution_count": 14,
   "metadata": {},
   "outputs": [],
   "source": [
    "import nibabel\n",
    "from nilearn import image "
   ]
  },
  {
   "cell_type": "code",
   "execution_count": 18,
   "metadata": {},
   "outputs": [],
   "source": [
    "for i in range(len(subs)):\n",
    "    if i == 52:\n",
    "        continue\n",
    "\n",
    "    init_path = f'/data/Projects/OpenClose_RMET/{old[i]}/open'\n",
    "    imgs = [f'{init_path}/{i}' for i in os.listdir(init_path)]\n",
    "    img = image.load_img(imgs)\n",
    "\n",
    "    nibabel.save(img, f'{bids_dir}/{subs[i]}/func/{subs[i]}_task-rest_run-2_bold.nii')"
   ]
  },
  {
   "cell_type": "code",
   "execution_count": 19,
   "metadata": {},
   "outputs": [],
   "source": [
    "for i in range(len(subs)):\n",
    "    if i == 52:\n",
    "        continue\n",
    "\n",
    "    init_path = f'/data/Projects/OpenClose_RMET/{old[i]}/close'\n",
    "    imgs = [f'{init_path}/{i}' for i in os.listdir(init_path)]\n",
    "    img = image.load_img(imgs)\n",
    "\n",
    "    nibabel.save(img, f'{bids_dir}/{subs[i]}/func/{subs[i]}_task-rest_run-1_bold.nii')"
   ]
  },
  {
   "cell_type": "code",
   "execution_count": 22,
   "metadata": {},
   "outputs": [
    {
     "data": {
      "text/plain": [
       "'sub-001 sub-002 sub-003 sub-004 sub-005 sub-006 sub-007 sub-008 sub-009 sub-010 sub-011 sub-012 sub-013 sub-014 sub-015 sub-016 sub-017 sub-018 sub-019 sub-020 sub-021 sub-022 sub-023 sub-024 sub-025 sub-026 sub-027 sub-028 sub-029 sub-030 sub-031 sub-032 sub-033 sub-034 sub-035 sub-036 sub-037 sub-038 sub-039 sub-040 sub-041 sub-042 sub-043 sub-044 sub-045 sub-046 sub-047 sub-048 sub-049 sub-050 sub-051 sub-052 sub-053 sub-054 sub-055 sub-056 sub-057 sub-058 sub-059 sub-060 sub-061 sub-062 sub-063 sub-064'"
      ]
     },
     "execution_count": 22,
     "metadata": {},
     "output_type": "execute_result"
    }
   ],
   "source": [
    "' '.join(subs)\n"
   ]
  },
  {
   "cell_type": "code",
   "execution_count": null,
   "metadata": {},
   "outputs": [],
   "source": []
  },
  {
   "cell_type": "markdown",
   "metadata": {},
   "source": [
    "________________________________________________"
   ]
  },
  {
   "cell_type": "code",
   "execution_count": null,
   "metadata": {},
   "outputs": [],
   "source": []
  },
  {
   "cell_type": "code",
   "execution_count": 7,
   "metadata": {},
   "outputs": [],
   "source": [
    "path = '/arch/OpenCloseProject/derivatives/'"
   ]
  },
  {
   "cell_type": "code",
   "execution_count": 5,
   "metadata": {},
   "outputs": [],
   "source": [
    "os.mkdir('/home/tm/ihb_data')"
   ]
  },
  {
   "cell_type": "code",
   "execution_count": 10,
   "metadata": {},
   "outputs": [
    {
     "data": {
      "text/plain": [
       "'/home/tm/ihb_data/sub-001'"
      ]
     },
     "execution_count": 10,
     "metadata": {},
     "output_type": "execute_result"
    }
   ],
   "source": [
    "shutil.copytree(f'{path}/sub-001/func', '/home/tm/ihb_data/sub-001')"
   ]
  },
  {
   "cell_type": "code",
   "execution_count": 12,
   "metadata": {},
   "outputs": [],
   "source": [
    "sub = [f'sub-{i+1:03d}' for i in range(84)]\n"
   ]
  },
  {
   "cell_type": "code",
   "execution_count": 14,
   "metadata": {},
   "outputs": [],
   "source": [
    "for i in sub[1:]:\n",
    "    shutil.copytree(f'{path}/{i}/func', f'/home/tm/ihb_data/{i}')\n"
   ]
  },
  {
   "cell_type": "code",
   "execution_count": 17,
   "metadata": {},
   "outputs": [],
   "source": [
    "sub = [i for i in os.listdir('/arch/OpenCloseBeijin/INDI_Lite_NIFTI/derivatives') if '.' not in i and 'sub' in i]\n"
   ]
  },
  {
   "cell_type": "code",
   "execution_count": null,
   "metadata": {},
   "outputs": [],
   "source": []
  },
  {
   "cell_type": "code",
   "execution_count": 18,
   "metadata": {},
   "outputs": [],
   "source": [
    "for i in sub:\n",
    "    shutil.copytree(f'/arch/OpenCloseBeijin/INDI_Lite_NIFTI/derivatives/{i}/func', f'/home/tm/china_data/{i}')\n"
   ]
  }
 ],
 "metadata": {
  "kernelspec": {
   "display_name": "nilearn_env",
   "language": "python",
   "name": "python3"
  },
  "language_info": {
   "codemirror_mode": {
    "name": "ipython",
    "version": 3
   },
   "file_extension": ".py",
   "mimetype": "text/x-python",
   "name": "python",
   "nbconvert_exporter": "python",
   "pygments_lexer": "ipython3",
   "version": "3.10.12"
  }
 },
 "nbformat": 4,
 "nbformat_minor": 2
}
